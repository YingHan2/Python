{
 "cells": [
  {
   "cell_type": "code",
   "execution_count": 9,
   "id": "ff5698da",
   "metadata": {},
   "outputs": [
    {
     "name": "stdout",
     "output_type": "stream",
     "text": [
      "joyyyy\n"
     ]
    }
   ],
   "source": [
    "with open('joy.txt') as file:\n",
    "    content = file.read()\n",
    "    print (content)\n"
   ]
  },
  {
   "cell_type": "code",
   "execution_count": 11,
   "id": "5d985408",
   "metadata": {},
   "outputs": [],
   "source": [
    "with open('AA2.txt','w')as file:\n",
    "    file.write('Hello,Python!')"
   ]
  },
  {
   "cell_type": "code",
   "execution_count": 14,
   "id": "bb014919",
   "metadata": {},
   "outputs": [
    {
     "name": "stdout",
     "output_type": "stream",
     "text": [
      "Filtered data saved to top_students(1).csv\n"
     ]
    }
   ],
   "source": [
    "import csv\n",
    "\n",
    "input_file = 'students (1).csv'\n",
    "output_file = 'top_students(1).csv'\n",
    "\n",
    "with open('students (1).csv','r')as file:\n",
    "    csv_reader = csv.DictReader(file)\n",
    "    \n",
    "    filtered_data = []\n",
    "    for row in csv_reader:\n",
    "        if row['Grade'] <= 'B':\n",
    "            filtered_data.append(row)\n",
    "    for row in filtered_data:\n",
    "        row['Status'] = 'Passed'\n",
    "\n",
    "header = ['Name','Age', 'Grade', 'Status']\n",
    "\n",
    "output_file = 'top_students(1).csv'\n",
    "        \n",
    "with open(output_file,'w',newline = '')as file:\n",
    "    writer = csv.DictWriter(file, fieldnames = header)\n",
    "    writer.writeheader()\n",
    "    writer.writerows(filtered_data)\n",
    "\n",
    "print(f\"Filtered data saved to {output_file}\")"
   ]
  }
 ],
 "metadata": {
  "kernelspec": {
   "display_name": "Python 3 (ipykernel)",
   "language": "python",
   "name": "python3"
  },
  "language_info": {
   "codemirror_mode": {
    "name": "ipython",
    "version": 3
   },
   "file_extension": ".py",
   "mimetype": "text/x-python",
   "name": "python",
   "nbconvert_exporter": "python",
   "pygments_lexer": "ipython3",
   "version": "3.11.5"
  }
 },
 "nbformat": 4,
 "nbformat_minor": 5
}
