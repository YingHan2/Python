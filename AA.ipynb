{
 "cells": [
  {
   "cell_type": "code",
   "execution_count": 9,
   "id": "ff5698da",
   "metadata": {},
   "outputs": [
    {
     "name": "stdout",
     "output_type": "stream",
     "text": [
      "joyyyy\n"
     ]
    }
   ],
   "source": [
    "with open('joy.txt') as file:\n",
    "    content = file.read()\n",
    "    print (content)\n"
   ]
  },
  {
   "cell_type": "code",
   "execution_count": 11,
   "id": "9d290ff1",
   "metadata": {},
   "outputs": [],
   "source": [
    "with open('AA2.txt','w')as file:\n",
    "    file.write('Hello,Python!')"
   ]
  }
 ],
 "metadata": {
  "kernelspec": {
   "display_name": "Python 3 (ipykernel)",
   "language": "python",
   "name": "python3"
  },
  "language_info": {
   "codemirror_mode": {
    "name": "ipython",
    "version": 3
   },
   "file_extension": ".py",
   "mimetype": "text/x-python",
   "name": "python",
   "nbconvert_exporter": "python",
   "pygments_lexer": "ipython3",
   "version": "3.11.5"
  }
 },
 "nbformat": 4,
 "nbformat_minor": 5
}
